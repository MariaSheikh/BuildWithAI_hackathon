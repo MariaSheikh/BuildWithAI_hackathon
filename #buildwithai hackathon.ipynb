{
 "cells": [
  {
   "cell_type": "code",
   "execution_count": null,
   "metadata": {
    "ExecuteTime": {
     "end_time": "2021-11-01T04:30:11.992854Z",
     "start_time": "2021-11-01T04:30:06.216177Z"
    }
   },
   "outputs": [],
   "source": [
    "# Required imports\n",
    "import pandas as pd\n",
    "import numpy as np\n",
    "import seaborn as sns\n",
    "import matplotlib.pyplot as plt\n",
    "import warnings \n",
    "warnings.filterwarnings( \"ignore\")\n",
    "\n",
    "# Preprocessing Required imports\n",
    "from scipy.stats import zscore\n",
    "from sklearn import preprocessing\n",
    "from sklearn.model_selection import train_test_split\n",
    "\n",
    "# Model Imports\n",
    "from sklearn.linear_model import LogisticRegression\n",
    "from sklearn.discriminant_analysis import LinearDiscriminantAnalysis\n",
    "from sklearn.model_selection import GridSearchCV\n",
    "from sklearn.neighbors import KNeighborsClassifier\n",
    "from sklearn.naive_bayes import GaussianNB\n",
    "from sklearn.ensemble import RandomForestClassifier\n",
    "from sklearn.ensemble import AdaBoostClassifier\n",
    "from sklearn.ensemble import BaggingClassifier\n",
    "\n",
    "\n",
    "# Accuracy and Performance Metric Imports\n",
    "from sklearn import metrics\n",
    "from sklearn.metrics import accuracy_score\n",
    "from sklearn.metrics import roc_auc_score,roc_curve,classification_report,confusion_matrix,plot_confusion_matrix"
   ]
  },
  {
   "cell_type": "markdown",
   "metadata": {},
   "source": [
    "# Read and Preliminary Checks"
   ]
  },
  {
   "cell_type": "code",
   "execution_count": null,
   "metadata": {
    "ExecuteTime": {
     "end_time": "2021-11-01T04:30:12.089719Z",
     "start_time": "2021-11-01T04:30:12.002171Z"
    }
   },
   "outputs": [],
   "source": [
    "depression_dataset = pd.read_csv('data.csv')"
   ]
  },
  {
   "cell_type": "code",
   "execution_count": null,
   "metadata": {
    "ExecuteTime": {
     "end_time": "2021-11-01T04:30:12.178381Z",
     "start_time": "2021-11-01T04:30:12.099937Z"
    },
    "scrolled": true
   },
   "outputs": [],
   "source": [
    "depression_dataset.info()"
   ]
  },
  {
   "cell_type": "code",
   "execution_count": null,
   "metadata": {
    "ExecuteTime": {
     "end_time": "2021-11-01T04:30:12.247070Z",
     "start_time": "2021-11-01T04:30:12.182360Z"
    }
   },
   "outputs": [],
   "source": [
    "depression_dataset.tail(18)"
   ]
  },
  {
   "cell_type": "code",
   "execution_count": null,
   "metadata": {
    "ExecuteTime": {
     "end_time": "2021-11-01T04:30:12.262939Z",
     "start_time": "2021-11-01T04:30:12.249718Z"
    }
   },
   "outputs": [],
   "source": [
    "positions = []\n",
    "for item in range(268,286):\n",
    "    positions.append(item)"
   ]
  },
  {
   "cell_type": "code",
   "execution_count": null,
   "metadata": {
    "ExecuteTime": {
     "end_time": "2021-11-01T04:30:12.278142Z",
     "start_time": "2021-11-01T04:30:12.267941Z"
    }
   },
   "outputs": [],
   "source": [
    "depression_dataset.drop(depression_dataset.index[positions], inplace=True)"
   ]
  },
  {
   "cell_type": "markdown",
   "metadata": {},
   "source": [
    "# Null Value Check"
   ]
  },
  {
   "cell_type": "code",
   "execution_count": null,
   "metadata": {
    "ExecuteTime": {
     "end_time": "2021-11-01T04:30:12.302921Z",
     "start_time": "2021-11-01T04:30:12.282250Z"
    },
    "scrolled": true
   },
   "outputs": [],
   "source": [
    "depression_dataset.isnull().sum()"
   ]
  },
  {
   "cell_type": "markdown",
   "metadata": {},
   "source": [
    "# Null Value Treatment"
   ]
  },
  {
   "cell_type": "code",
   "execution_count": null,
   "metadata": {
    "ExecuteTime": {
     "end_time": "2021-11-01T04:30:12.327829Z",
     "start_time": "2021-11-01T04:30:12.304946Z"
    }
   },
   "outputs": [],
   "source": [
    "for column in depression_dataset.columns:\n",
    "    if depression_dataset[column].dtype != 'object':\n",
    "        mean = depression_dataset[column].mean()\n",
    "        #mean = train_data[column].median()\n",
    "        depression_dataset[column] = depression_dataset[column].fillna(mean)   "
   ]
  },
  {
   "cell_type": "code",
   "execution_count": null,
   "metadata": {
    "ExecuteTime": {
     "end_time": "2021-11-01T04:30:12.343904Z",
     "start_time": "2021-11-01T04:30:12.333660Z"
    },
    "scrolled": true
   },
   "outputs": [],
   "source": [
    "depression_dataset.isnull().sum()"
   ]
  },
  {
   "cell_type": "markdown",
   "metadata": {},
   "source": [
    "# Data Encoding"
   ]
  },
  {
   "cell_type": "code",
   "execution_count": null,
   "metadata": {
    "ExecuteTime": {
     "end_time": "2021-11-01T04:30:12.452123Z",
     "start_time": "2021-11-01T04:30:12.347877Z"
    },
    "scrolled": true
   },
   "outputs": [],
   "source": [
    "for column in depression_dataset.columns:\n",
    "    if depression_dataset[column].dtype == 'object':\n",
    "        print(column.upper(),': ',depression_dataset[column].nunique())\n",
    "        print(depression_dataset[column].value_counts().sort_values())\n",
    "        print('\\n')"
   ]
  },
  {
   "cell_type": "code",
   "execution_count": null,
   "metadata": {
    "ExecuteTime": {
     "end_time": "2021-11-01T04:30:12.468190Z",
     "start_time": "2021-11-01T04:30:12.454157Z"
    }
   },
   "outputs": [],
   "source": [
    "depression_dataset.columns"
   ]
  },
  {
   "cell_type": "code",
   "execution_count": null,
   "metadata": {
    "ExecuteTime": {
     "end_time": "2021-11-01T04:30:12.516235Z",
     "start_time": "2021-11-01T04:30:12.470783Z"
    }
   },
   "outputs": [],
   "source": [
    "depression_dataset['inter_dom'] = np.where(depression_dataset['inter_dom'] =='Dom', 0, depression_dataset['inter_dom'])\n",
    "depression_dataset['inter_dom'] = np.where(depression_dataset['inter_dom'] =='Inter', 1, depression_dataset['inter_dom'])\n",
    "\n",
    "depression_dataset['Region'] = np.where(depression_dataset['Region'] =='SA', 0, depression_dataset['Region'])\n",
    "depression_dataset['Region'] = np.where(depression_dataset['Region'] =='EA', 1, depression_dataset['Region'])\n",
    "depression_dataset['Region'] = np.where(depression_dataset['Region'] =='SEA', 2, depression_dataset['Region'])\n",
    "depression_dataset['Region'] = np.where(depression_dataset['Region'] =='JAP', 3, depression_dataset['Region'])\n",
    "depression_dataset['Region'] = np.where(depression_dataset['Region'] =='Others', 4, depression_dataset['Region'])\n",
    "\n",
    "depression_dataset['Gender'] = np.where(depression_dataset['Gender'] =='Female', 0, depression_dataset['Gender'])\n",
    "depression_dataset['Gender'] = np.where(depression_dataset['Gender'] =='Male', 1, depression_dataset['Gender'])\n",
    "\n",
    "depression_dataset['Academic'] = np.where(depression_dataset['Academic'] =='Under', 0, depression_dataset['Academic'])\n",
    "depression_dataset['Academic'] = np.where(depression_dataset['Academic'] =='Grad', 1, depression_dataset['Academic'])\n",
    "\n",
    "depression_dataset['Stay_Cate'] = np.where(depression_dataset['Stay_Cate'] =='Short', 0, depression_dataset['Stay_Cate'])\n",
    "depression_dataset['Stay_Cate'] = np.where(depression_dataset['Stay_Cate'] =='Medium', 1, depression_dataset['Stay_Cate'])\n",
    "depression_dataset['Stay_Cate'] = np.where(depression_dataset['Stay_Cate'] =='Long', 2, depression_dataset['Stay_Cate'])\n",
    "\n",
    "depression_dataset['DepType'] = np.where(depression_dataset['DepType'] =='No', 0, depression_dataset['DepType'])\n",
    "depression_dataset['DepType'] = np.where(depression_dataset['DepType'] =='Major', 1, depression_dataset['DepType'])\n",
    "depression_dataset['DepType'] = np.where(depression_dataset['DepType'] =='Other', 2, depression_dataset['DepType'])\n",
    "\n",
    "depression_dataset['DepSev'] = np.where(depression_dataset['DepSev'] =='Min', 0, depression_dataset['DepSev'])\n",
    "depression_dataset['DepSev'] = np.where(depression_dataset['DepSev'] =='Mild', 1, depression_dataset['DepSev'])\n",
    "depression_dataset['DepSev'] = np.where(depression_dataset['DepSev'] =='Mod', 2, depression_dataset['DepSev'])\n",
    "depression_dataset['DepSev'] = np.where(depression_dataset['DepSev'] =='Sev', 3, depression_dataset['DepSev'])\n",
    "depression_dataset['DepSev'] = np.where(depression_dataset['DepSev'] =='ModSev', 4, depression_dataset['DepSev'])"
   ]
  },
  {
   "cell_type": "code",
   "execution_count": null,
   "metadata": {
    "ExecuteTime": {
     "end_time": "2021-11-01T04:30:12.540960Z",
     "start_time": "2021-11-01T04:30:12.518247Z"
    }
   },
   "outputs": [],
   "source": [
    "depression_dataset['Japanese_cate'] = np.where(depression_dataset['Japanese_cate'] =='Low', 0, depression_dataset['Japanese_cate'])\n",
    "depression_dataset['Japanese_cate'] = np.where(depression_dataset['Japanese_cate'] =='Average', 1, depression_dataset['Japanese_cate'])\n",
    "depression_dataset['Japanese_cate'] = np.where(depression_dataset['Japanese_cate'] =='High', 2, depression_dataset['Japanese_cate'])\n",
    "\n",
    "depression_dataset['English_cate'] = np.where(depression_dataset['English_cate'] =='Low', 0, depression_dataset['English_cate'])\n",
    "depression_dataset['English_cate'] = np.where(depression_dataset['English_cate'] =='Average', 1, depression_dataset['English_cate'])\n",
    "depression_dataset['English_cate'] = np.where(depression_dataset['English_cate'] =='High', 2, depression_dataset['English_cate'])"
   ]
  },
  {
   "cell_type": "code",
   "execution_count": null,
   "metadata": {
    "ExecuteTime": {
     "end_time": "2021-11-01T04:30:12.577184Z",
     "start_time": "2021-11-01T04:30:12.544788Z"
    }
   },
   "outputs": [],
   "source": [
    "depression_dataset['Intimate'] = np.where(depression_dataset['Intimate'] =='Yes', 0, depression_dataset['Intimate'])\n",
    "depression_dataset['Intimate'] = np.where(depression_dataset['Intimate'] =='No', 1, depression_dataset['Intimate'])\n",
    "\n",
    "depression_dataset['Religion'] = np.where(depression_dataset['Religion'] =='Yes', 0, depression_dataset['Religion'])\n",
    "depression_dataset['Religion'] = np.where(depression_dataset['Religion'] =='No', 1, depression_dataset['Religion'])\n",
    "\n",
    "depression_dataset['Suicide'] = np.where(depression_dataset['Suicide'] =='Yes', 0, depression_dataset['Suicide'])\n",
    "depression_dataset['Suicide'] = np.where(depression_dataset['Suicide'] =='No', 1, depression_dataset['Suicide'])\n",
    "\n",
    "depression_dataset['Dep'] = np.where(depression_dataset['Dep'] =='Yes', 0, depression_dataset['Dep'])\n",
    "depression_dataset['Dep'] = np.where(depression_dataset['Dep'] =='No', 1, depression_dataset['Dep'])\n",
    "\n",
    "depression_dataset['Partner_bi'] = np.where(depression_dataset['Partner_bi'] =='Yes', 0, depression_dataset['Partner_bi'])\n",
    "depression_dataset['Partner_bi'] = np.where(depression_dataset['Partner_bi'] =='No', 1, depression_dataset['Partner_bi'])\n",
    "\n",
    "depression_dataset['Friends_bi'] = np.where(depression_dataset['Friends_bi'] =='Yes', 0, depression_dataset['Friends_bi'])\n",
    "depression_dataset['Friends_bi'] = np.where(depression_dataset['Friends_bi'] =='No', 1, depression_dataset['Friends_bi'])\n",
    "\n",
    "depression_dataset['Parents_bi'] = np.where(depression_dataset['Parents_bi'] =='Yes', 0, depression_dataset['Parents_bi'])\n",
    "depression_dataset['Parents_bi'] = np.where(depression_dataset['Parents_bi'] =='No', 1, depression_dataset['Parents_bi'])\n",
    "\n",
    "depression_dataset['Relative_bi'] = np.where(depression_dataset['Relative_bi'] =='Yes', 0, depression_dataset['Relative_bi'])\n",
    "depression_dataset['Relative_bi'] = np.where(depression_dataset['Relative_bi'] =='No', 1, depression_dataset['Relative_bi'])\n",
    "\n",
    "depression_dataset['Professional_bi'] = np.where(depression_dataset['Professional_bi'] =='Yes', 0, depression_dataset['Professional_bi'])\n",
    "depression_dataset['Professional_bi'] = np.where(depression_dataset['Professional_bi'] =='No', 1, depression_dataset['Professional_bi'])\n",
    "\n",
    "depression_dataset['Phone_bi'] = np.where(depression_dataset['Phone_bi'] =='Yes', 0, depression_dataset['Phone_bi'])\n",
    "depression_dataset['Phone_bi'] = np.where(depression_dataset['Phone_bi'] =='No', 1, depression_dataset['Phone_bi'])\n",
    "\n",
    "depression_dataset['Doctor_bi'] = np.where(depression_dataset['Doctor_bi'] =='Yes', 0, depression_dataset['Doctor_bi'])\n",
    "depression_dataset['Doctor_bi'] = np.where(depression_dataset['Doctor_bi'] =='No', 1, depression_dataset['Doctor_bi'])\n",
    "\n",
    "depression_dataset['religion_bi'] = np.where(depression_dataset['religion_bi'] =='Yes', 0, depression_dataset['religion_bi'])\n",
    "depression_dataset['religion_bi'] = np.where(depression_dataset['religion_bi'] =='No', 1, depression_dataset['religion_bi'])\n",
    "\n",
    "depression_dataset['Alone_bi'] = np.where(depression_dataset['Alone_bi'] =='Yes', 0, depression_dataset['Alone_bi'])\n",
    "depression_dataset['Alone_bi'] = np.where(depression_dataset['Alone_bi'] =='No', 1, depression_dataset['Alone_bi'])\n",
    "\n",
    "depression_dataset['Others_bi'] = np.where(depression_dataset['Others_bi'] =='Yes', 0, depression_dataset['Others_bi'])\n",
    "depression_dataset['Others_bi'] = np.where(depression_dataset['Others_bi'] =='No', 1, depression_dataset['Others_bi'])\n",
    "\n",
    "depression_dataset['Internet_bi'] = np.where(depression_dataset['Internet_bi'] =='Yes', 0, depression_dataset['Internet_bi'])\n",
    "depression_dataset['Internet_bi'] = np.where(depression_dataset['Internet_bi'] =='No', 1, depression_dataset['Internet_bi'])"
   ]
  },
  {
   "cell_type": "code",
   "execution_count": null,
   "metadata": {
    "ExecuteTime": {
     "end_time": "2021-11-01T04:30:12.676609Z",
     "start_time": "2021-11-01T04:30:12.579480Z"
    },
    "scrolled": true
   },
   "outputs": [],
   "source": [
    "for column in depression_dataset.columns:\n",
    "    if depression_dataset[column].dtype == 'object':\n",
    "        print(column.upper(),': ',depression_dataset[column].nunique())\n",
    "        print(depression_dataset[column].value_counts().sort_values())\n",
    "        print('\\n')"
   ]
  },
  {
   "cell_type": "markdown",
   "metadata": {},
   "source": [
    "# Dropping Unnecessary Values"
   ]
  },
  {
   "cell_type": "code",
   "execution_count": null,
   "metadata": {
    "ExecuteTime": {
     "end_time": "2021-11-01T04:30:12.685001Z",
     "start_time": "2021-11-01T04:30:12.679850Z"
    },
    "scrolled": true
   },
   "outputs": [],
   "source": [
    "#cat_new = ['']\n",
    "#train_data.drop(columns=cat_new,axis=1,inplace=True)"
   ]
  },
  {
   "cell_type": "code",
   "execution_count": null,
   "metadata": {
    "ExecuteTime": {
     "end_time": "2021-11-01T04:30:12.793972Z",
     "start_time": "2021-11-01T04:30:12.687785Z"
    }
   },
   "outputs": [],
   "source": [
    "depression_dataset.describe()"
   ]
  },
  {
   "cell_type": "code",
   "execution_count": null,
   "metadata": {
    "ExecuteTime": {
     "end_time": "2021-11-01T04:30:12.812301Z",
     "start_time": "2021-11-01T04:30:12.795598Z"
    }
   },
   "outputs": [],
   "source": [
    "col_list = depression_dataset.columns"
   ]
  },
  {
   "cell_type": "code",
   "execution_count": null,
   "metadata": {
    "ExecuteTime": {
     "end_time": "2021-11-01T04:30:12.841913Z",
     "start_time": "2021-11-01T04:30:12.815603Z"
    }
   },
   "outputs": [],
   "source": [
    "from sklearn.preprocessing import StandardScaler\n",
    "scaler = StandardScaler()\n",
    "depression_dataset_scaled = scaler.fit_transform(depression_dataset)\n",
    "depression_dataset_scaled = pd.DataFrame(depression_dataset_scaled)\n",
    "depression_dataset_scaled.columns = col_list"
   ]
  },
  {
   "cell_type": "markdown",
   "metadata": {},
   "source": [
    "# Building training and test sets"
   ]
  },
  {
   "cell_type": "code",
   "execution_count": null,
   "metadata": {
    "ExecuteTime": {
     "end_time": "2021-11-01T04:30:12.857397Z",
     "start_time": "2021-11-01T04:30:12.845316Z"
    }
   },
   "outputs": [],
   "source": [
    "X = depression_dataset_scaled.drop('DepSev', axis=1)\n",
    "y = depression_dataset_scaled.pop('DepSev')"
   ]
  },
  {
   "cell_type": "code",
   "execution_count": null,
   "metadata": {
    "ExecuteTime": {
     "end_time": "2021-11-01T04:30:12.872864Z",
     "start_time": "2021-11-01T04:30:12.859562Z"
    }
   },
   "outputs": [],
   "source": [
    "X_train, X_test, y_train, y_test = train_test_split(X, y, test_size=0.3 , random_state=1)"
   ]
  },
  {
   "cell_type": "markdown",
   "metadata": {},
   "source": [
    "# Modeling"
   ]
  },
  {
   "cell_type": "markdown",
   "metadata": {},
   "source": [
    "## Logistic Regression"
   ]
  },
  {
   "cell_type": "code",
   "execution_count": null,
   "metadata": {
    "ExecuteTime": {
     "end_time": "2021-11-01T04:30:12.883555Z",
     "start_time": "2021-11-01T04:30:12.875558Z"
    }
   },
   "outputs": [],
   "source": [
    "param_grid = {\n",
    "    'solver': ['newton-cg', 'lbfgs', 'saga'],\n",
    "    'max_iter': [40,50,60,70,80],\n",
    "    'n_jobs': [2,3,4,5]\n",
    "}\n",
    "LogReg = LogisticRegression()\n",
    "log_reg_model = GridSearchCV(estimator = LogReg, param_grid = param_grid, cv = 3)"
   ]
  },
  {
   "cell_type": "code",
   "execution_count": null,
   "metadata": {
    "ExecuteTime": {
     "end_time": "2021-11-01T04:30:12.898255Z",
     "start_time": "2021-11-01T04:30:12.885552Z"
    }
   },
   "outputs": [],
   "source": [
    "log_reg_model = LogisticRegression()"
   ]
  },
  {
   "cell_type": "code",
   "execution_count": null,
   "metadata": {
    "ExecuteTime": {
     "end_time": "2021-11-01T04:30:38.953205Z",
     "start_time": "2021-11-01T04:30:38.923544Z"
    }
   },
   "outputs": [],
   "source": [
    "log_reg_model.fit(X_train, y_train)"
   ]
  },
  {
   "cell_type": "code",
   "execution_count": null,
   "metadata": {
    "ExecuteTime": {
     "end_time": "2021-11-01T04:30:13.889434Z",
     "start_time": "2021-11-01T04:30:06.375Z"
    },
    "code_folding": []
   },
   "outputs": [],
   "source": [
    "#log_reg_model.best_params_"
   ]
  },
  {
   "cell_type": "code",
   "execution_count": null,
   "metadata": {
    "ExecuteTime": {
     "end_time": "2021-09-05T15:37:31.440443Z",
     "start_time": "2021-09-05T15:37:31.427509Z"
    }
   },
   "outputs": [],
   "source": [
    "ytrain_logreg_predict = log_reg_model.predict(X_train)\n",
    "ytest_logreg_predict = log_reg_model.predict(X_test)"
   ]
  },
  {
   "cell_type": "code",
   "execution_count": null,
   "metadata": {
    "ExecuteTime": {
     "end_time": "2021-09-05T15:37:31.472358Z",
     "start_time": "2021-09-05T15:37:31.443436Z"
    }
   },
   "outputs": [],
   "source": [
    "ytrain_logreg_prob_vals = log_reg_model.predict_proba(X_train)\n",
    "ytest_logreg_prob_vals = log_reg_model.predict_proba(X_test)\n",
    "prob_logreg_train = ytrain_logreg_prob_vals[:, 1]\n",
    "prob_logreg_test = ytest_logreg_prob_vals[:, 1]"
   ]
  },
  {
   "cell_type": "code",
   "execution_count": null,
   "metadata": {
    "ExecuteTime": {
     "end_time": "2021-11-01T04:30:13.890441Z",
     "start_time": "2021-11-01T04:30:06.379Z"
    }
   },
   "outputs": [],
   "source": [
    "logreg_predictions = log_reg_model.predict(test_data_scaled)"
   ]
  },
  {
   "cell_type": "code",
   "execution_count": null,
   "metadata": {
    "ExecuteTime": {
     "end_time": "2021-11-01T04:30:13.894214Z",
     "start_time": "2021-11-01T04:30:06.383Z"
    }
   },
   "outputs": [],
   "source": [
    "output = pd.DataFrame({'ID': test_data.ID, 'Overall_Experience': logreg_predictions})\n",
    "output.to_csv('02. submission_logReg.csv', index=False)\n",
    "print(\"Your submission was successfully saved!\")"
   ]
  },
  {
   "cell_type": "code",
   "execution_count": null,
   "metadata": {
    "ExecuteTime": {
     "end_time": "2021-11-01T04:30:13.896869Z",
     "start_time": "2021-11-01T04:30:06.388Z"
    }
   },
   "outputs": [],
   "source": [
    "cols = [train_data.columns]\n",
    "coeff = [log_reg_model.coef_]\n",
    "for name, i in zip(iter(cols), iter(coeff)):\n",
    "    print('The coefficient of', name ,'is',i) "
   ]
  },
  {
   "cell_type": "markdown",
   "metadata": {},
   "source": [
    "## Linear Discriminant Analysis"
   ]
  },
  {
   "cell_type": "code",
   "execution_count": null,
   "metadata": {
    "ExecuteTime": {
     "end_time": "2021-11-01T04:30:13.902080Z",
     "start_time": "2021-11-01T04:30:06.395Z"
    }
   },
   "outputs": [],
   "source": [
    "LiDiA = LinearDiscriminantAnalysis()\n",
    "LDA_model = LiDiA.fit(X,y)\n",
    "LDA_model"
   ]
  },
  {
   "cell_type": "code",
   "execution_count": null,
   "metadata": {
    "ExecuteTime": {
     "end_time": "2021-09-05T15:37:31.550149Z",
     "start_time": "2021-09-05T15:37:31.522224Z"
    }
   },
   "outputs": [],
   "source": [
    "pred_class = LDA_model.predict(X)\n",
    "ytrain_lidia_predict = LDA_model.predict(X_train)\n",
    "ytest_lidia_predict = LDA_model.predict(X_test)"
   ]
  },
  {
   "cell_type": "code",
   "execution_count": null,
   "metadata": {
    "ExecuteTime": {
     "end_time": "2021-09-05T15:37:31.566107Z",
     "start_time": "2021-09-05T15:37:31.553142Z"
    }
   },
   "outputs": [],
   "source": [
    "ytrain_lidia_prob_vals = LDA_model.predict_proba(X_train)\n",
    "ytest_lidia_prob_vals = LDA_model.predict_proba(X_test)\n",
    "prob_lidia_train = ytrain_lidia_prob_vals[:, 1]\n",
    "prob_lidia_test = ytest_lidia_prob_vals[:, 1]"
   ]
  },
  {
   "cell_type": "code",
   "execution_count": null,
   "metadata": {
    "ExecuteTime": {
     "end_time": "2021-11-01T04:30:13.906635Z",
     "start_time": "2021-11-01T04:30:06.405Z"
    }
   },
   "outputs": [],
   "source": [
    "output = pd.DataFrame({'ID': test_data.ID, 'Overall_Experience': pred_class})\n",
    "output.to_csv('03. submission_LiDiA.csv', index=False)\n",
    "print(\"Your submission was successfully saved!\")"
   ]
  },
  {
   "cell_type": "markdown",
   "metadata": {},
   "source": [
    "## KNN Model "
   ]
  },
  {
   "cell_type": "code",
   "execution_count": null,
   "metadata": {
    "ExecuteTime": {
     "end_time": "2021-09-05T15:37:31.582063Z",
     "start_time": "2021-09-05T15:37:31.569099Z"
    }
   },
   "outputs": [],
   "source": [
    "# param_grid = {\n",
    "#     'algorithm':['ball_tree', 'kd_tree'],\n",
    "#     'weights':['uniform', 'distance'],\n",
    "#     'n_neighbors':[5,10,15],\n",
    "#     'leaf_size':[30,45,60]\n",
    "    \n",
    "# }\n",
    "\n",
    "# KNNModel=KNeighborsClassifier()\n",
    "\n",
    "# KNN_model = GridSearchCV(estimator = KNNModel, param_grid = param_grid, cv = 3)"
   ]
  },
  {
   "cell_type": "code",
   "execution_count": null,
   "metadata": {
    "ExecuteTime": {
     "end_time": "2021-09-05T15:37:31.598021Z",
     "start_time": "2021-09-05T15:37:31.585056Z"
    }
   },
   "outputs": [],
   "source": [
    "# KNN_model.best_params_"
   ]
  },
  {
   "cell_type": "code",
   "execution_count": null,
   "metadata": {
    "ExecuteTime": {
     "end_time": "2021-11-01T04:31:46.499962Z",
     "start_time": "2021-11-01T04:31:46.476523Z"
    }
   },
   "outputs": [],
   "source": [
    "KNN_model = KNeighborsClassifier()"
   ]
  },
  {
   "cell_type": "code",
   "execution_count": null,
   "metadata": {
    "ExecuteTime": {
     "end_time": "2021-11-01T04:31:47.463952Z",
     "start_time": "2021-11-01T04:31:47.349447Z"
    }
   },
   "outputs": [],
   "source": [
    "KNN_model.fit(X_train,y_train)"
   ]
  },
  {
   "cell_type": "code",
   "execution_count": null,
   "metadata": {
    "ExecuteTime": {
     "end_time": "2021-09-05T15:37:31.753606Z",
     "start_time": "2021-09-05T15:37:31.648886Z"
    }
   },
   "outputs": [],
   "source": [
    "y_train_KNN_predict = KNN_model.predict(X_train)\n",
    "y_test_KNN_predict = KNN_model.predict(X_test)"
   ]
  },
  {
   "cell_type": "code",
   "execution_count": null,
   "metadata": {
    "ExecuteTime": {
     "end_time": "2021-09-05T15:37:31.785521Z",
     "start_time": "2021-09-05T15:37:31.755600Z"
    }
   },
   "outputs": [],
   "source": [
    "ytrain_KNN_prob_vals = KNN_model.predict_proba(X_train)\n",
    "ytest_KNN_prob_vals = KNN_model.predict_proba(X_test)\n",
    "prob_KNN_train = ytrain_KNN_prob_vals[:, 1]\n",
    "prob_KNN_test = ytest_KNN_prob_vals[:, 1]"
   ]
  },
  {
   "cell_type": "code",
   "execution_count": null,
   "metadata": {
    "ExecuteTime": {
     "end_time": "2021-11-01T04:30:13.919162Z",
     "start_time": "2021-11-01T04:30:06.423Z"
    }
   },
   "outputs": [],
   "source": [
    "KNN_pred = KNN_model.predict(test_data_scaled)"
   ]
  },
  {
   "cell_type": "code",
   "execution_count": null,
   "metadata": {
    "ExecuteTime": {
     "end_time": "2021-11-01T04:30:13.921372Z",
     "start_time": "2021-11-01T04:30:06.426Z"
    }
   },
   "outputs": [],
   "source": [
    "output = pd.DataFrame({'ID': test_data.ID, 'Overall_Experience': KNN_pred})\n",
    "output.to_csv('04. submission_KNN.csv', index=False)\n",
    "print(\"Your submission was successfully saved!\")"
   ]
  },
  {
   "cell_type": "code",
   "execution_count": null,
   "metadata": {
    "ExecuteTime": {
     "end_time": "2021-11-01T04:30:13.922421Z",
     "start_time": "2021-11-01T04:30:06.429Z"
    }
   },
   "outputs": [],
   "source": [
    "# cols = train_data_scaled.columns\n",
    "# coeff = list(KNN_model.coef_)\n",
    "# for name,i in zip(cols, iter(coeff)):\n",
    "#     print('The coefficient of',name,'is',i.round(3)) "
   ]
  },
  {
   "cell_type": "markdown",
   "metadata": {},
   "source": [
    "## Naïve Bayes Model"
   ]
  },
  {
   "cell_type": "code",
   "execution_count": null,
   "metadata": {
    "ExecuteTime": {
     "end_time": "2021-11-01T04:30:13.924416Z",
     "start_time": "2021-11-01T04:30:06.432Z"
    }
   },
   "outputs": [],
   "source": [
    "NB_model = GaussianNB()\n",
    "NB_model.fit(X, y)"
   ]
  },
  {
   "cell_type": "code",
   "execution_count": null,
   "metadata": {
    "ExecuteTime": {
     "end_time": "2021-11-01T04:30:13.926572Z",
     "start_time": "2021-11-01T04:30:06.434Z"
    }
   },
   "outputs": [],
   "source": [
    "NB_pred = NB_model.predict(test_data_scaled)"
   ]
  },
  {
   "cell_type": "code",
   "execution_count": null,
   "metadata": {
    "ExecuteTime": {
     "end_time": "2021-09-05T15:37:31.833426Z",
     "start_time": "2021-09-05T15:37:31.820430Z"
    }
   },
   "outputs": [],
   "source": [
    "y_train_NB_predict = NB_model.predict(X_train)\n",
    "y_test_NB_predict = NB_model.predict(X_test)"
   ]
  },
  {
   "cell_type": "code",
   "execution_count": null,
   "metadata": {
    "ExecuteTime": {
     "end_time": "2021-09-05T15:37:31.849350Z",
     "start_time": "2021-09-05T15:37:31.836386Z"
    }
   },
   "outputs": [],
   "source": [
    "ytrain_NB_prob_vals = NB_model.predict_proba(X_train)\n",
    "ytest_NB_prob_vals = NB_model.predict_proba(X_test)\n",
    "prob_NB_train = ytrain_NB_prob_vals[:, 1]\n",
    "prob_NB_test = ytest_NB_prob_vals[:, 1]"
   ]
  },
  {
   "cell_type": "code",
   "execution_count": null,
   "metadata": {
    "ExecuteTime": {
     "end_time": "2021-11-01T04:30:13.928568Z",
     "start_time": "2021-11-01T04:30:06.438Z"
    }
   },
   "outputs": [],
   "source": [
    "output = pd.DataFrame({'ID': test_data.ID, 'Overall_Experience': NB_pred})\n",
    "output.to_csv('05. submission_NB.csv', index=False)\n",
    "print(\"Your submission was successfully saved!\")"
   ]
  },
  {
   "cell_type": "markdown",
   "metadata": {},
   "source": [
    "## Bagging using RandomForest"
   ]
  },
  {
   "cell_type": "code",
   "execution_count": null,
   "metadata": {
    "ExecuteTime": {
     "end_time": "2021-11-01T04:30:13.930230Z",
     "start_time": "2021-11-01T04:30:06.441Z"
    }
   },
   "outputs": [],
   "source": [
    "# Parameters initially chosen for RandomForest but filtered after choosing best parameters\n",
    "\n",
    "param_grid = {\n",
    "   'max_depth': [7,8,9, 10, 11,12,13],\n",
    "   'max_features': [5, 6, 7, 8, 9],\n",
    "  'min_samples_leaf': [10, 15, 20, 25, 30],\n",
    "  'min_samples_split': [30, 45, 60, 75, 90],\n",
    "   'n_estimators': [71, 81, 91, 101],\n",
    "\n",
    "}\n",
    "\n",
    "rfCl = RandomForestClassifier()"
   ]
  },
  {
   "cell_type": "code",
   "execution_count": null,
   "metadata": {
    "ExecuteTime": {
     "end_time": "2021-11-01T04:30:13.932225Z",
     "start_time": "2021-11-01T04:30:06.444Z"
    }
   },
   "outputs": [],
   "source": [
    "param_grid = {\n",
    "    'max_depth': [7,8,9,10],\n",
    "    'max_features': [4, 5, 6, 7],\n",
    "    'min_samples_leaf': [5, 10, 15, 20],\n",
    "    'min_samples_split': [10, 20 , 30, 40, 50],\n",
    "    'n_estimators': [91, 101, 111],\n",
    "}\n",
    "\n",
    "rfCl = RandomForestClassifier()\n",
    "\n",
    "RFCl_model = GridSearchCV(estimator = rfCl, param_grid = param_grid, cv = 3)"
   ]
  },
  {
   "cell_type": "code",
   "execution_count": null,
   "metadata": {
    "ExecuteTime": {
     "end_time": "2021-11-01T04:30:13.935853Z",
     "start_time": "2021-11-01T04:30:06.446Z"
    }
   },
   "outputs": [],
   "source": [
    "# RFCl_model = RandomForestClassifier()"
   ]
  },
  {
   "cell_type": "code",
   "execution_count": null,
   "metadata": {
    "ExecuteTime": {
     "end_time": "2021-09-05T15:46:22.576714Z",
     "start_time": "2021-09-05T15:37:31.884260Z"
    }
   },
   "outputs": [],
   "source": [
    "RFCl_model.fit(X_train, y_train)"
   ]
  },
  {
   "cell_type": "code",
   "execution_count": null,
   "metadata": {
    "ExecuteTime": {
     "end_time": "2021-11-01T04:30:13.942776Z",
     "start_time": "2021-11-01T04:30:06.459Z"
    }
   },
   "outputs": [],
   "source": [
    "RFCl_model.best_params_\n",
    "best_grid_rfc = RFCl_model.best_estimator_"
   ]
  },
  {
   "cell_type": "code",
   "execution_count": null,
   "metadata": {
    "ExecuteTime": {
     "end_time": "2021-09-05T15:46:24.038324Z",
     "start_time": "2021-09-05T15:46:22.594671Z"
    }
   },
   "outputs": [],
   "source": [
    "Bagging_model=BaggingClassifier(base_estimator=best_grid_rfc,random_state=1)\n",
    "Bagging_model.fit(X_train, y_train)"
   ]
  },
  {
   "cell_type": "code",
   "execution_count": null,
   "metadata": {
    "ExecuteTime": {
     "end_time": "2021-09-05T15:46:24.350276Z",
     "start_time": "2021-09-05T15:46:24.039321Z"
    }
   },
   "outputs": [],
   "source": [
    "y_train_Bagging_predict = Bagging_model.predict(X_train)\n",
    "y_test_Bagging_predict = Bagging_model.predict(X_test)"
   ]
  },
  {
   "cell_type": "code",
   "execution_count": null,
   "metadata": {
    "ExecuteTime": {
     "end_time": "2021-09-05T15:46:24.664439Z",
     "start_time": "2021-09-05T15:46:24.351247Z"
    }
   },
   "outputs": [],
   "source": [
    "ytrain_Bagging_prob_vals = Bagging_model.predict_proba(X_train)\n",
    "ytest_Bagging_prob_vals = Bagging_model.predict_proba(X_test)\n",
    "prob_Bagging_train = ytrain_Bagging_prob_vals[:, 1]\n",
    "prob_Bagging_test = ytest_Bagging_prob_vals[:, 1]"
   ]
  },
  {
   "cell_type": "code",
   "execution_count": null,
   "metadata": {
    "ExecuteTime": {
     "end_time": "2021-11-01T04:30:13.952078Z",
     "start_time": "2021-11-01T04:30:06.468Z"
    }
   },
   "outputs": [],
   "source": [
    "feature_importances = np.mean([\n",
    "    tree.feature_importances_ for tree in Bagging_model.estimators_\n",
    "], axis=0)"
   ]
  },
  {
   "cell_type": "code",
   "execution_count": null,
   "metadata": {
    "ExecuteTime": {
     "end_time": "2021-11-01T04:30:13.954118Z",
     "start_time": "2021-11-01T04:30:06.470Z"
    }
   },
   "outputs": [],
   "source": [
    "feature_importances"
   ]
  },
  {
   "cell_type": "code",
   "execution_count": null,
   "metadata": {
    "ExecuteTime": {
     "end_time": "2021-11-01T04:30:13.956312Z",
     "start_time": "2021-11-01T04:30:06.473Z"
    }
   },
   "outputs": [],
   "source": [
    "col_list"
   ]
  },
  {
   "cell_type": "code",
   "execution_count": null,
   "metadata": {
    "ExecuteTime": {
     "end_time": "2021-11-01T04:30:13.958474Z",
     "start_time": "2021-11-01T04:30:06.475Z"
    }
   },
   "outputs": [],
   "source": [
    "Bagging_pred = Bagging_model.predict(test_data_scaled)"
   ]
  },
  {
   "cell_type": "code",
   "execution_count": null,
   "metadata": {
    "ExecuteTime": {
     "end_time": "2021-11-01T04:30:13.959581Z",
     "start_time": "2021-11-01T04:30:06.477Z"
    }
   },
   "outputs": [],
   "source": [
    "output = pd.DataFrame({'ID': test_data.ID, 'Overall_Experience':Bagging_pred})\n",
    "output.to_csv('06. submission_Bagging.csv', index=False)\n",
    "print(\"Your submission was successfully saved!\")"
   ]
  },
  {
   "cell_type": "markdown",
   "metadata": {},
   "source": [
    "## Ada Boosting"
   ]
  },
  {
   "cell_type": "code",
   "execution_count": null,
   "metadata": {
    "ExecuteTime": {
     "end_time": "2021-09-05T15:46:24.679791Z",
     "start_time": "2021-09-05T15:46:24.666404Z"
    }
   },
   "outputs": [],
   "source": [
    "param_grid = {\n",
    "    'n_estimators':[50,60,70,80,90,100],\n",
    "    'algorithm':['SAMME','SAMME.R']\n",
    "    \n",
    "}\n",
    "\n",
    "AdaB=AdaBoostClassifier()\n",
    "\n",
    "AdaB_model = GridSearchCV(estimator = AdaB, param_grid = param_grid, cv = 3)"
   ]
  },
  {
   "cell_type": "code",
   "execution_count": null,
   "metadata": {
    "ExecuteTime": {
     "end_time": "2021-09-05T15:46:29.612220Z",
     "start_time": "2021-09-05T15:46:24.680852Z"
    }
   },
   "outputs": [],
   "source": [
    "#AdaB_model = AdaBoostClassifier(n_estimators=100,random_state=1)\n",
    "AdaB_model.fit(X_train,y_train)"
   ]
  },
  {
   "cell_type": "code",
   "execution_count": null,
   "metadata": {
    "ExecuteTime": {
     "end_time": "2021-09-05T15:46:29.628169Z",
     "start_time": "2021-09-05T15:46:29.615204Z"
    }
   },
   "outputs": [],
   "source": [
    "AdaB_model.best_params_"
   ]
  },
  {
   "cell_type": "code",
   "execution_count": null,
   "metadata": {
    "ExecuteTime": {
     "end_time": "2021-09-05T15:46:29.660079Z",
     "start_time": "2021-09-05T15:46:29.631155Z"
    }
   },
   "outputs": [],
   "source": [
    "y_train_AdaB_predict = AdaB_model.predict(X_train)\n",
    "y_test_AdaB_predict = AdaB_model.predict(X_test)"
   ]
  },
  {
   "cell_type": "code",
   "execution_count": null,
   "metadata": {
    "ExecuteTime": {
     "end_time": "2021-09-05T15:46:29.691992Z",
     "start_time": "2021-09-05T15:46:29.662073Z"
    }
   },
   "outputs": [],
   "source": [
    "ytrain_AdaB_prob_vals = AdaB_model.predict_proba(X_train)\n",
    "ytest_AdaB_prob_vals = AdaB_model.predict_proba(X_test)\n",
    "prob_AdaB_train = ytrain_AdaB_prob_vals[:, 1]\n",
    "prob_AdaB_test = ytest_AdaB_prob_vals[:, 1]"
   ]
  },
  {
   "cell_type": "code",
   "execution_count": null,
   "metadata": {
    "ExecuteTime": {
     "end_time": "2021-11-01T04:30:13.968332Z",
     "start_time": "2021-11-01T04:30:06.489Z"
    }
   },
   "outputs": [],
   "source": [
    "Ada_predict = AdaB_model.predict(test_data_scaled)"
   ]
  },
  {
   "cell_type": "code",
   "execution_count": null,
   "metadata": {
    "ExecuteTime": {
     "end_time": "2021-11-01T04:30:13.969967Z",
     "start_time": "2021-11-01T04:30:06.492Z"
    }
   },
   "outputs": [],
   "source": [
    "output = pd.DataFrame({'ID': test_data.ID, 'Overall_Experience': Ada_predict})\n",
    "output.to_csv('07. submission_AdaB.csv', index=False)\n",
    "print(\"Your submission was successfully saved!\")"
   ]
  },
  {
   "cell_type": "markdown",
   "metadata": {
    "ExecuteTime": {
     "end_time": "2021-10-16T19:51:29.281169Z",
     "start_time": "2021-10-16T19:51:28.795402Z"
    }
   },
   "source": [
    "END"
   ]
  }
 ],
 "metadata": {
  "kernelspec": {
   "display_name": "Python 3",
   "language": "python",
   "name": "python3"
  },
  "language_info": {
   "codemirror_mode": {
    "name": "ipython",
    "version": 3
   },
   "file_extension": ".py",
   "mimetype": "text/x-python",
   "name": "python",
   "nbconvert_exporter": "python",
   "pygments_lexer": "ipython3",
   "version": "3.8.8"
  },
  "toc": {
   "base_numbering": 1,
   "nav_menu": {},
   "number_sections": true,
   "sideBar": true,
   "skip_h1_title": false,
   "title_cell": "Table of Contents",
   "title_sidebar": "Contents",
   "toc_cell": false,
   "toc_position": {
    "height": "calc(100% - 180px)",
    "left": "10px",
    "top": "150px",
    "width": "384px"
   },
   "toc_section_display": true,
   "toc_window_display": true
  },
  "varInspector": {
   "cols": {
    "lenName": 16,
    "lenType": 16,
    "lenVar": 40
   },
   "kernels_config": {
    "python": {
     "delete_cmd_postfix": "",
     "delete_cmd_prefix": "del ",
     "library": "var_list.py",
     "varRefreshCmd": "print(var_dic_list())"
    },
    "r": {
     "delete_cmd_postfix": ") ",
     "delete_cmd_prefix": "rm(",
     "library": "var_list.r",
     "varRefreshCmd": "cat(var_dic_list()) "
    }
   },
   "types_to_exclude": [
    "module",
    "function",
    "builtin_function_or_method",
    "instance",
    "_Feature"
   ],
   "window_display": false
  }
 },
 "nbformat": 4,
 "nbformat_minor": 4
}
